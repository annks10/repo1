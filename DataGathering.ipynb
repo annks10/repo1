{
 "cells": [
  {
   "cell_type": "markdown",
   "metadata": {},
   "source": [
    "<center><img src=\"http://i.imgur.com/sSaOozN.png\" width=\"500\"></center>"
   ]
  },
  {
   "cell_type": "markdown",
   "metadata": {},
   "source": [
    "## Course: Computational Thinking for Governance Analytics\n",
    "\n",
    "### Prof. José Manuel Magallanes, PhD \n",
    "* Visiting Professor of Computational Policy at Evans School of Public Policy and Governance, and eScience Institute Senior Data Science Fellow, University of Washington.\n",
    "* Professor of Government and Political Methodology, Pontificia Universidad Católica del Perú. \n",
    "\n",
    "_____\n",
    "<a id='home'></a>\n",
    "\n",
    "# Data collecting"
   ]
  },
  {
   "cell_type": "markdown",
   "metadata": {},
   "source": [
    "1. [The GitHub Repo](#part1) \n",
    "2. [Uploading files](#part2)\n",
    "3. [APIs](#part3) \n",
    "4. [Scraping](#part4) \n",
    "5. [Social media](#part5) "
   ]
  },
  {
   "cell_type": "markdown",
   "metadata": {},
   "source": [
    "____\n",
    "<a id='part1'></a>\n",
    "\n",
    "## 1. The GitHub Repo\n",
    "\n",
    "**Where is the Data?**\n",
    "**Where is the Code?**\n",
    "\n",
    "We use GitHub as a way to organize our work. It helps transforming the way you can store and access your code and data outside your local machine: an easy way of experiencing the cloud. \n",
    "\n",
    "You should have a GitHub account and the GitHub desktop version already installed. If not, do so now and then continue with these steps:\n",
    "\n",
    "1. Once you are signed into GitHub web, create a _repository_. Choose a name for your repo. **DO NOT forget** to select the option to add a READ ME file, choose a **LICENSE** too.\n",
    "2. **Clone** the repository just created into your computer. You can select where to clone the repository, avoid cloning the repo into a folder from another app (i.e. Dropbox).\n",
    "\n",
    "\n",
    "Next, let's open the data file that you find [here](https://drive.google.com/drive/folders/1uH6S-8rns8THDnBRCy3OGLEki9LjyTCL?usp=sharing). Once you open the file, you will see something like this:\n"
   ]
  },
  {
   "cell_type": "code",
   "execution_count": null,
   "metadata": {},
   "outputs": [],
   "source": [
    "from IPython.display import IFrame  \n",
    "wikiLink=\"https://docs.google.com/spreadsheets/d/e/2PACX-1vRXdVAxZTnQ6N7bI1xJ_XRQSoG-FsiucGI_fsyBuKCi6TcO3guGB_-6nk4i6so7SG__eIpfS0o8pUuZ/pubhtml?widget=true&amp;headers=false\" \n",
    "IFrame(wikiLink, width=700, height=300)"
   ]
  },
  {
   "cell_type": "markdown",
   "metadata": {},
   "source": [
    "Understanding what you see is not straightforward:\n",
    "\n",
    "* What does these data represent?\n",
    "* What does each column represent?\n",
    "* What possible mistakes can appear in the data values?\n",
    "* What variables will be useful for my hypotheses and goals?\n",
    "\n",
    "If this is the first time you run into a data set like this, you first need to **read** the documentation of the data (available in the same link above).\n",
    "\n",
    "At this stage, you can download these data from GoogleDocs into the folder cloned from GitHub (now in your local machine). Download it first as a CSV file. \n",
    "\n",
    "Now, open GitHub Desktop App. You will see that the app is telling you some changes have ocurred in your local files (in the cloned repository from GitHub). Now, let's **Commit** and **Push**, that will syncronize contents in your local repo and your cloud repo.\n",
    "\n",
    "In *my own* repo, it looks like [this](https://github.com/EvansDataScience/data/blob/master/HSBfromGoogle.csv).\n",
    "\n",
    "GitHub allows you to see the data content (it is not always possible). Now, find the icon **raw** and copy its link address (**do not** copy the URL of the page). This is mine:\n",
    "\n",
    "https://github.com/EvansDataScience/data/blob/master/HSBfromGoogle.csv\n",
    "\n",
    "Now let's get ready for Python.\n",
    "\n",
    "[home](#home)"
   ]
  },
  {
   "cell_type": "markdown",
   "metadata": {},
   "source": [
    "____\n",
    "<a id='part2'></a>\n",
    "\n",
    "## 2. Uploading files"
   ]
  },
  {
   "cell_type": "markdown",
   "metadata": {},
   "source": [
    "The file we are planing to read into Python is a data table. Python needs support from one of its libraries to deal with data tables: **PANDAS**\n",
    "\n",
    "* Check if you already have Pandas.\n",
    "* If you do not have it, install it."
   ]
  },
  {
   "cell_type": "code",
   "execution_count": 1,
   "metadata": {},
   "outputs": [
    {
     "name": "stdout",
     "output_type": "stream",
     "text": [
      "Name: pandas\r\n",
      "Version: 1.5.2\r\n",
      "Summary: Powerful data structures for data analysis, time series, and statistics\r\n",
      "Home-page: https://pandas.pydata.org\r\n",
      "Author: The Pandas Development Team\r\n",
      "Author-email: pandas-dev@python.org\r\n",
      "License: BSD-3-Clause\r\n",
      "Location: /Users/annsaephan/opt/anaconda3/envs/Go/lib/python3.9/site-packages\r\n",
      "Requires: numpy, python-dateutil, pytz\r\n",
      "Required-by: \r\n"
     ]
    }
   ],
   "source": [
    "# do I have it?\n",
    "!pip show pandas"
   ]
  },
  {
   "cell_type": "code",
   "execution_count": null,
   "metadata": {},
   "outputs": [],
   "source": [
    "# if you do not have it:\n",
    "#!pip install pandas"
   ]
  },
  {
   "cell_type": "markdown",
   "metadata": {},
   "source": [
    "Now that you have *Pandas*, you can read in the data:"
   ]
  },
  {
   "cell_type": "code",
   "execution_count": 5,
   "metadata": {},
   "outputs": [],
   "source": [
    "# call pandas\n",
    "import pandas as pd # 'pd' is a nickname\n",
    "\n",
    "# use a function from pandas to read the cloud data into a Python object\n",
    "gitCloudRepo='https://github.com/EvansDataScience/data/raw/master/'\n",
    "fileName=\"HSBfromGoogle.csv\"\n",
    "\n",
    "DFcsv=pd.read_csv(gitCloudRepo + fileName)"
   ]
  },
  {
   "cell_type": "markdown",
   "metadata": {},
   "source": [
    "If Python has not **complained**, that is, you got no error messages, then, you are good to continue!\n",
    "\n",
    "The **DFcsv** Python object holds the data:"
   ]
  },
  {
   "cell_type": "code",
   "execution_count": 6,
   "metadata": {},
   "outputs": [
    {
     "data": {
      "text/html": [
       "<div>\n",
       "<style scoped>\n",
       "    .dataframe tbody tr th:only-of-type {\n",
       "        vertical-align: middle;\n",
       "    }\n",
       "\n",
       "    .dataframe tbody tr th {\n",
       "        vertical-align: top;\n",
       "    }\n",
       "\n",
       "    .dataframe thead th {\n",
       "        text-align: right;\n",
       "    }\n",
       "</style>\n",
       "<table border=\"1\" class=\"dataframe\">\n",
       "  <thead>\n",
       "    <tr style=\"text-align: right;\">\n",
       "      <th></th>\n",
       "      <th>id</th>\n",
       "      <th>sex</th>\n",
       "      <th>race</th>\n",
       "      <th>ses</th>\n",
       "      <th>sctyp</th>\n",
       "      <th>hsp</th>\n",
       "      <th>locus</th>\n",
       "      <th>concpt</th>\n",
       "      <th>mot</th>\n",
       "      <th>car</th>\n",
       "      <th>rdg</th>\n",
       "      <th>wrtg</th>\n",
       "      <th>math</th>\n",
       "      <th>sci</th>\n",
       "      <th>civ</th>\n",
       "    </tr>\n",
       "  </thead>\n",
       "  <tbody>\n",
       "    <tr>\n",
       "      <th>0</th>\n",
       "      <td>1</td>\n",
       "      <td>Female</td>\n",
       "      <td>Asian</td>\n",
       "      <td>Low</td>\n",
       "      <td>Public</td>\n",
       "      <td>Vocational/Technical</td>\n",
       "      <td>0.29</td>\n",
       "      <td>0.88</td>\n",
       "      <td>0.67</td>\n",
       "      <td>Professional_2</td>\n",
       "      <td>33.6</td>\n",
       "      <td>43.7</td>\n",
       "      <td>40.2</td>\n",
       "      <td>39.0</td>\n",
       "      <td>40.6</td>\n",
       "    </tr>\n",
       "    <tr>\n",
       "      <th>1</th>\n",
       "      <td>2</td>\n",
       "      <td>Male</td>\n",
       "      <td>Asian</td>\n",
       "      <td>Low</td>\n",
       "      <td>Public</td>\n",
       "      <td>Academic preparatory</td>\n",
       "      <td>-0.42</td>\n",
       "      <td>0.03</td>\n",
       "      <td>0.33</td>\n",
       "      <td>Craftsman</td>\n",
       "      <td>46.9</td>\n",
       "      <td>35.9</td>\n",
       "      <td>41.9</td>\n",
       "      <td>36.3</td>\n",
       "      <td>45.6</td>\n",
       "    </tr>\n",
       "    <tr>\n",
       "      <th>2</th>\n",
       "      <td>3</td>\n",
       "      <td>Female</td>\n",
       "      <td>Asian</td>\n",
       "      <td>Low</td>\n",
       "      <td>Public</td>\n",
       "      <td>Academic preparatory</td>\n",
       "      <td>0.71</td>\n",
       "      <td>0.03</td>\n",
       "      <td>0.67</td>\n",
       "      <td>Professional_1</td>\n",
       "      <td>41.6</td>\n",
       "      <td>59.3</td>\n",
       "      <td>41.9</td>\n",
       "      <td>44.4</td>\n",
       "      <td>45.6</td>\n",
       "    </tr>\n",
       "    <tr>\n",
       "      <th>3</th>\n",
       "      <td>4</td>\n",
       "      <td>Female</td>\n",
       "      <td>Asian</td>\n",
       "      <td>Medium</td>\n",
       "      <td>Public</td>\n",
       "      <td>Vocational/Technical</td>\n",
       "      <td>0.06</td>\n",
       "      <td>0.03</td>\n",
       "      <td>0.00</td>\n",
       "      <td>Service</td>\n",
       "      <td>38.9</td>\n",
       "      <td>41.1</td>\n",
       "      <td>32.7</td>\n",
       "      <td>41.7</td>\n",
       "      <td>40.6</td>\n",
       "    </tr>\n",
       "    <tr>\n",
       "      <th>4</th>\n",
       "      <td>5</td>\n",
       "      <td>Female</td>\n",
       "      <td>Asian</td>\n",
       "      <td>Medium</td>\n",
       "      <td>Public</td>\n",
       "      <td>Vocational/Technical</td>\n",
       "      <td>0.22</td>\n",
       "      <td>-0.28</td>\n",
       "      <td>0.00</td>\n",
       "      <td>Clerical</td>\n",
       "      <td>36.3</td>\n",
       "      <td>48.9</td>\n",
       "      <td>39.5</td>\n",
       "      <td>41.7</td>\n",
       "      <td>45.6</td>\n",
       "    </tr>\n",
       "    <tr>\n",
       "      <th>...</th>\n",
       "      <td>...</td>\n",
       "      <td>...</td>\n",
       "      <td>...</td>\n",
       "      <td>...</td>\n",
       "      <td>...</td>\n",
       "      <td>...</td>\n",
       "      <td>...</td>\n",
       "      <td>...</td>\n",
       "      <td>...</td>\n",
       "      <td>...</td>\n",
       "      <td>...</td>\n",
       "      <td>...</td>\n",
       "      <td>...</td>\n",
       "      <td>...</td>\n",
       "      <td>...</td>\n",
       "    </tr>\n",
       "    <tr>\n",
       "      <th>595</th>\n",
       "      <td>596</td>\n",
       "      <td>Male</td>\n",
       "      <td>Hispanic</td>\n",
       "      <td>High</td>\n",
       "      <td>Private</td>\n",
       "      <td>General</td>\n",
       "      <td>0.27</td>\n",
       "      <td>-1.05</td>\n",
       "      <td>0.33</td>\n",
       "      <td>Professional_1</td>\n",
       "      <td>60.1</td>\n",
       "      <td>54.1</td>\n",
       "      <td>56.3</td>\n",
       "      <td>55.3</td>\n",
       "      <td>55.6</td>\n",
       "    </tr>\n",
       "    <tr>\n",
       "      <th>596</th>\n",
       "      <td>597</td>\n",
       "      <td>Male</td>\n",
       "      <td>Hispanic</td>\n",
       "      <td>Medium</td>\n",
       "      <td>Private</td>\n",
       "      <td>General</td>\n",
       "      <td>0.55</td>\n",
       "      <td>0.34</td>\n",
       "      <td>1.00</td>\n",
       "      <td>Technical</td>\n",
       "      <td>62.7</td>\n",
       "      <td>61.9</td>\n",
       "      <td>72.9</td>\n",
       "      <td>63.4</td>\n",
       "      <td>55.6</td>\n",
       "    </tr>\n",
       "    <tr>\n",
       "      <th>597</th>\n",
       "      <td>598</td>\n",
       "      <td>Male</td>\n",
       "      <td>Hispanic</td>\n",
       "      <td>Medium</td>\n",
       "      <td>Private</td>\n",
       "      <td>General</td>\n",
       "      <td>-0.61</td>\n",
       "      <td>0.34</td>\n",
       "      <td>0.67</td>\n",
       "      <td>Technical</td>\n",
       "      <td>68.0</td>\n",
       "      <td>54.1</td>\n",
       "      <td>74.6</td>\n",
       "      <td>66.1</td>\n",
       "      <td>65.5</td>\n",
       "    </tr>\n",
       "    <tr>\n",
       "      <th>598</th>\n",
       "      <td>599</td>\n",
       "      <td>Female</td>\n",
       "      <td>Hispanic</td>\n",
       "      <td>Medium</td>\n",
       "      <td>Private</td>\n",
       "      <td>General</td>\n",
       "      <td>0.23</td>\n",
       "      <td>0.94</td>\n",
       "      <td>1.00</td>\n",
       "      <td>Professional_2</td>\n",
       "      <td>57.4</td>\n",
       "      <td>67.1</td>\n",
       "      <td>57.9</td>\n",
       "      <td>60.7</td>\n",
       "      <td>55.6</td>\n",
       "    </tr>\n",
       "    <tr>\n",
       "      <th>599</th>\n",
       "      <td>600</td>\n",
       "      <td>Male</td>\n",
       "      <td>Hispanic</td>\n",
       "      <td>Medium</td>\n",
       "      <td>Private</td>\n",
       "      <td>General</td>\n",
       "      <td>0.02</td>\n",
       "      <td>0.03</td>\n",
       "      <td>0.33</td>\n",
       "      <td>Professional_1</td>\n",
       "      <td>62.7</td>\n",
       "      <td>54.1</td>\n",
       "      <td>64.7</td>\n",
       "      <td>58.0</td>\n",
       "      <td>50.6</td>\n",
       "    </tr>\n",
       "  </tbody>\n",
       "</table>\n",
       "<p>600 rows × 15 columns</p>\n",
       "</div>"
      ],
      "text/plain": [
       "      id     sex      race     ses    sctyp                   hsp  locus  \\\n",
       "0      1  Female     Asian     Low   Public  Vocational/Technical   0.29   \n",
       "1      2    Male     Asian     Low   Public  Academic preparatory  -0.42   \n",
       "2      3  Female     Asian     Low   Public  Academic preparatory   0.71   \n",
       "3      4  Female     Asian  Medium   Public  Vocational/Technical   0.06   \n",
       "4      5  Female     Asian  Medium   Public  Vocational/Technical   0.22   \n",
       "..   ...     ...       ...     ...      ...                   ...    ...   \n",
       "595  596    Male  Hispanic    High  Private               General   0.27   \n",
       "596  597    Male  Hispanic  Medium  Private               General   0.55   \n",
       "597  598    Male  Hispanic  Medium  Private               General  -0.61   \n",
       "598  599  Female  Hispanic  Medium  Private               General   0.23   \n",
       "599  600    Male  Hispanic  Medium  Private               General   0.02   \n",
       "\n",
       "     concpt   mot             car   rdg  wrtg  math   sci   civ  \n",
       "0      0.88  0.67  Professional_2  33.6  43.7  40.2  39.0  40.6  \n",
       "1      0.03  0.33       Craftsman  46.9  35.9  41.9  36.3  45.6  \n",
       "2      0.03  0.67  Professional_1  41.6  59.3  41.9  44.4  45.6  \n",
       "3      0.03  0.00         Service  38.9  41.1  32.7  41.7  40.6  \n",
       "4     -0.28  0.00        Clerical  36.3  48.9  39.5  41.7  45.6  \n",
       "..      ...   ...             ...   ...   ...   ...   ...   ...  \n",
       "595   -1.05  0.33  Professional_1  60.1  54.1  56.3  55.3  55.6  \n",
       "596    0.34  1.00       Technical  62.7  61.9  72.9  63.4  55.6  \n",
       "597    0.34  0.67       Technical  68.0  54.1  74.6  66.1  65.5  \n",
       "598    0.94  1.00  Professional_2  57.4  67.1  57.9  60.7  55.6  \n",
       "599    0.03  0.33  Professional_1  62.7  54.1  64.7  58.0  50.6  \n",
       "\n",
       "[600 rows x 15 columns]"
      ]
     },
     "execution_count": 6,
     "metadata": {},
     "output_type": "execute_result"
    }
   ],
   "source": [
    "DFcsv"
   ]
  },
  {
   "cell_type": "markdown",
   "metadata": {},
   "source": [
    "This object is of a particular type:"
   ]
  },
  {
   "cell_type": "code",
   "execution_count": 7,
   "metadata": {},
   "outputs": [
    {
     "data": {
      "text/plain": [
       "pandas.core.frame.DataFrame"
      ]
     },
     "execution_count": 7,
     "metadata": {},
     "output_type": "execute_result"
    }
   ],
   "source": [
    "type(DFcsv)"
   ]
  },
  {
   "cell_type": "markdown",
   "metadata": {},
   "source": [
    "The type is **Data Frame** (DF). Several functions can be applied to DFs. Let me show you some basic ones."
   ]
  },
  {
   "cell_type": "code",
   "execution_count": 8,
   "metadata": {},
   "outputs": [
    {
     "data": {
      "text/plain": [
       "(600, 15)"
      ]
     },
     "execution_count": 8,
     "metadata": {},
     "output_type": "execute_result"
    }
   ],
   "source": [
    "# dimensions (rows,columns)\n",
    "DFcsv.shape"
   ]
  },
  {
   "cell_type": "code",
   "execution_count": 9,
   "metadata": {},
   "outputs": [
    {
     "data": {
      "text/html": [
       "<div>\n",
       "<style scoped>\n",
       "    .dataframe tbody tr th:only-of-type {\n",
       "        vertical-align: middle;\n",
       "    }\n",
       "\n",
       "    .dataframe tbody tr th {\n",
       "        vertical-align: top;\n",
       "    }\n",
       "\n",
       "    .dataframe thead th {\n",
       "        text-align: right;\n",
       "    }\n",
       "</style>\n",
       "<table border=\"1\" class=\"dataframe\">\n",
       "  <thead>\n",
       "    <tr style=\"text-align: right;\">\n",
       "      <th></th>\n",
       "      <th>id</th>\n",
       "      <th>sex</th>\n",
       "      <th>race</th>\n",
       "      <th>ses</th>\n",
       "      <th>sctyp</th>\n",
       "      <th>hsp</th>\n",
       "      <th>locus</th>\n",
       "      <th>concpt</th>\n",
       "      <th>mot</th>\n",
       "      <th>car</th>\n",
       "      <th>rdg</th>\n",
       "      <th>wrtg</th>\n",
       "      <th>math</th>\n",
       "      <th>sci</th>\n",
       "      <th>civ</th>\n",
       "    </tr>\n",
       "  </thead>\n",
       "  <tbody>\n",
       "    <tr>\n",
       "      <th>0</th>\n",
       "      <td>1</td>\n",
       "      <td>Female</td>\n",
       "      <td>Asian</td>\n",
       "      <td>Low</td>\n",
       "      <td>Public</td>\n",
       "      <td>Vocational/Technical</td>\n",
       "      <td>0.29</td>\n",
       "      <td>0.88</td>\n",
       "      <td>0.67</td>\n",
       "      <td>Professional_2</td>\n",
       "      <td>33.6</td>\n",
       "      <td>43.7</td>\n",
       "      <td>40.2</td>\n",
       "      <td>39.0</td>\n",
       "      <td>40.6</td>\n",
       "    </tr>\n",
       "    <tr>\n",
       "      <th>1</th>\n",
       "      <td>2</td>\n",
       "      <td>Male</td>\n",
       "      <td>Asian</td>\n",
       "      <td>Low</td>\n",
       "      <td>Public</td>\n",
       "      <td>Academic preparatory</td>\n",
       "      <td>-0.42</td>\n",
       "      <td>0.03</td>\n",
       "      <td>0.33</td>\n",
       "      <td>Craftsman</td>\n",
       "      <td>46.9</td>\n",
       "      <td>35.9</td>\n",
       "      <td>41.9</td>\n",
       "      <td>36.3</td>\n",
       "      <td>45.6</td>\n",
       "    </tr>\n",
       "    <tr>\n",
       "      <th>2</th>\n",
       "      <td>3</td>\n",
       "      <td>Female</td>\n",
       "      <td>Asian</td>\n",
       "      <td>Low</td>\n",
       "      <td>Public</td>\n",
       "      <td>Academic preparatory</td>\n",
       "      <td>0.71</td>\n",
       "      <td>0.03</td>\n",
       "      <td>0.67</td>\n",
       "      <td>Professional_1</td>\n",
       "      <td>41.6</td>\n",
       "      <td>59.3</td>\n",
       "      <td>41.9</td>\n",
       "      <td>44.4</td>\n",
       "      <td>45.6</td>\n",
       "    </tr>\n",
       "    <tr>\n",
       "      <th>3</th>\n",
       "      <td>4</td>\n",
       "      <td>Female</td>\n",
       "      <td>Asian</td>\n",
       "      <td>Medium</td>\n",
       "      <td>Public</td>\n",
       "      <td>Vocational/Technical</td>\n",
       "      <td>0.06</td>\n",
       "      <td>0.03</td>\n",
       "      <td>0.00</td>\n",
       "      <td>Service</td>\n",
       "      <td>38.9</td>\n",
       "      <td>41.1</td>\n",
       "      <td>32.7</td>\n",
       "      <td>41.7</td>\n",
       "      <td>40.6</td>\n",
       "    </tr>\n",
       "    <tr>\n",
       "      <th>4</th>\n",
       "      <td>5</td>\n",
       "      <td>Female</td>\n",
       "      <td>Asian</td>\n",
       "      <td>Medium</td>\n",
       "      <td>Public</td>\n",
       "      <td>Vocational/Technical</td>\n",
       "      <td>0.22</td>\n",
       "      <td>-0.28</td>\n",
       "      <td>0.00</td>\n",
       "      <td>Clerical</td>\n",
       "      <td>36.3</td>\n",
       "      <td>48.9</td>\n",
       "      <td>39.5</td>\n",
       "      <td>41.7</td>\n",
       "      <td>45.6</td>\n",
       "    </tr>\n",
       "    <tr>\n",
       "      <th>5</th>\n",
       "      <td>6</td>\n",
       "      <td>Male</td>\n",
       "      <td>Asian</td>\n",
       "      <td>Medium</td>\n",
       "      <td>Public</td>\n",
       "      <td>Academic preparatory</td>\n",
       "      <td>0.46</td>\n",
       "      <td>0.03</td>\n",
       "      <td>0.00</td>\n",
       "      <td>Proprietor</td>\n",
       "      <td>49.5</td>\n",
       "      <td>46.3</td>\n",
       "      <td>46.2</td>\n",
       "      <td>41.7</td>\n",
       "      <td>35.6</td>\n",
       "    </tr>\n",
       "    <tr>\n",
       "      <th>6</th>\n",
       "      <td>7</td>\n",
       "      <td>Male</td>\n",
       "      <td>Asian</td>\n",
       "      <td>Low</td>\n",
       "      <td>Public</td>\n",
       "      <td>General</td>\n",
       "      <td>0.44</td>\n",
       "      <td>-0.47</td>\n",
       "      <td>0.33</td>\n",
       "      <td>Professional_2</td>\n",
       "      <td>62.7</td>\n",
       "      <td>64.5</td>\n",
       "      <td>48.0</td>\n",
       "      <td>63.4</td>\n",
       "      <td>55.6</td>\n",
       "    </tr>\n",
       "    <tr>\n",
       "      <th>7</th>\n",
       "      <td>8</td>\n",
       "      <td>Female</td>\n",
       "      <td>Asian</td>\n",
       "      <td>Low</td>\n",
       "      <td>Public</td>\n",
       "      <td>General</td>\n",
       "      <td>0.68</td>\n",
       "      <td>0.25</td>\n",
       "      <td>1.00</td>\n",
       "      <td>Professional_1</td>\n",
       "      <td>44.2</td>\n",
       "      <td>51.5</td>\n",
       "      <td>36.9</td>\n",
       "      <td>49.8</td>\n",
       "      <td>55.6</td>\n",
       "    </tr>\n",
       "    <tr>\n",
       "      <th>8</th>\n",
       "      <td>9</td>\n",
       "      <td>Male</td>\n",
       "      <td>Asian</td>\n",
       "      <td>Medium</td>\n",
       "      <td>Public</td>\n",
       "      <td>General</td>\n",
       "      <td>0.06</td>\n",
       "      <td>0.56</td>\n",
       "      <td>0.33</td>\n",
       "      <td>Professional_1</td>\n",
       "      <td>46.9</td>\n",
       "      <td>41.1</td>\n",
       "      <td>45.3</td>\n",
       "      <td>47.1</td>\n",
       "      <td>55.6</td>\n",
       "    </tr>\n",
       "    <tr>\n",
       "      <th>9</th>\n",
       "      <td>10</td>\n",
       "      <td>Female</td>\n",
       "      <td>Asian</td>\n",
       "      <td>Low</td>\n",
       "      <td>Public</td>\n",
       "      <td>General</td>\n",
       "      <td>0.05</td>\n",
       "      <td>0.15</td>\n",
       "      <td>1.00</td>\n",
       "      <td>Proprietor</td>\n",
       "      <td>44.2</td>\n",
       "      <td>49.5</td>\n",
       "      <td>40.5</td>\n",
       "      <td>39.0</td>\n",
       "      <td>50.6</td>\n",
       "    </tr>\n",
       "  </tbody>\n",
       "</table>\n",
       "</div>"
      ],
      "text/plain": [
       "   id     sex   race     ses   sctyp                   hsp  locus  concpt  \\\n",
       "0   1  Female  Asian     Low  Public  Vocational/Technical   0.29    0.88   \n",
       "1   2    Male  Asian     Low  Public  Academic preparatory  -0.42    0.03   \n",
       "2   3  Female  Asian     Low  Public  Academic preparatory   0.71    0.03   \n",
       "3   4  Female  Asian  Medium  Public  Vocational/Technical   0.06    0.03   \n",
       "4   5  Female  Asian  Medium  Public  Vocational/Technical   0.22   -0.28   \n",
       "5   6    Male  Asian  Medium  Public  Academic preparatory   0.46    0.03   \n",
       "6   7    Male  Asian     Low  Public               General   0.44   -0.47   \n",
       "7   8  Female  Asian     Low  Public               General   0.68    0.25   \n",
       "8   9    Male  Asian  Medium  Public               General   0.06    0.56   \n",
       "9  10  Female  Asian     Low  Public               General   0.05    0.15   \n",
       "\n",
       "    mot             car   rdg  wrtg  math   sci   civ  \n",
       "0  0.67  Professional_2  33.6  43.7  40.2  39.0  40.6  \n",
       "1  0.33       Craftsman  46.9  35.9  41.9  36.3  45.6  \n",
       "2  0.67  Professional_1  41.6  59.3  41.9  44.4  45.6  \n",
       "3  0.00         Service  38.9  41.1  32.7  41.7  40.6  \n",
       "4  0.00        Clerical  36.3  48.9  39.5  41.7  45.6  \n",
       "5  0.00      Proprietor  49.5  46.3  46.2  41.7  35.6  \n",
       "6  0.33  Professional_2  62.7  64.5  48.0  63.4  55.6  \n",
       "7  1.00  Professional_1  44.2  51.5  36.9  49.8  55.6  \n",
       "8  0.33  Professional_1  46.9  41.1  45.3  47.1  55.6  \n",
       "9  1.00      Proprietor  44.2  49.5  40.5  39.0  50.6  "
      ]
     },
     "execution_count": 9,
     "metadata": {},
     "output_type": "execute_result"
    }
   ],
   "source": [
    "# top / bottom\n",
    "DFcsv.head(10) #tail()"
   ]
  },
  {
   "cell_type": "code",
   "execution_count": 10,
   "metadata": {},
   "outputs": [
    {
     "data": {
      "text/plain": [
       "Index(['id', 'sex', 'race', 'ses', 'sctyp', 'hsp', 'locus', 'concpt', 'mot',\n",
       "       'car', 'rdg', 'wrtg', 'math', 'sci', 'civ'],\n",
       "      dtype='object')"
      ]
     },
     "execution_count": 10,
     "metadata": {},
     "output_type": "execute_result"
    }
   ],
   "source": [
    "# column names\n",
    "DFcsv.columns"
   ]
  },
  {
   "cell_type": "code",
   "execution_count": 17,
   "metadata": {},
   "outputs": [
    {
     "data": {
      "text/plain": [
       "0       Public\n",
       "1       Public\n",
       "2       Public\n",
       "3       Public\n",
       "4       Public\n",
       "        ...   \n",
       "595    Private\n",
       "596    Private\n",
       "597    Private\n",
       "598    Private\n",
       "599    Private\n",
       "Name: sctyp, Length: 600, dtype: object"
      ]
     },
     "execution_count": 17,
     "metadata": {},
     "output_type": "execute_result"
    }
   ],
   "source": [
    "# access by column index\n",
    "DFcsv.iloc[:,4]"
   ]
  },
  {
   "cell_type": "code",
   "execution_count": 16,
   "metadata": {},
   "outputs": [
    {
     "data": {
      "text/plain": [
       "0       Public\n",
       "1       Public\n",
       "2       Public\n",
       "3       Public\n",
       "4       Public\n",
       "        ...   \n",
       "595    Private\n",
       "596    Private\n",
       "597    Private\n",
       "598    Private\n",
       "599    Private\n",
       "Name: sctyp, Length: 600, dtype: object"
      ]
     },
     "execution_count": 16,
     "metadata": {},
     "output_type": "execute_result"
    }
   ],
   "source": [
    "# access by column name\n",
    "DFcsv.loc[:,'sctyp']"
   ]
  },
  {
   "cell_type": "code",
   "execution_count": 18,
   "metadata": {},
   "outputs": [
    {
     "data": {
      "text/html": [
       "<div>\n",
       "<style scoped>\n",
       "    .dataframe tbody tr th:only-of-type {\n",
       "        vertical-align: middle;\n",
       "    }\n",
       "\n",
       "    .dataframe tbody tr th {\n",
       "        vertical-align: top;\n",
       "    }\n",
       "\n",
       "    .dataframe thead th {\n",
       "        text-align: right;\n",
       "    }\n",
       "</style>\n",
       "<table border=\"1\" class=\"dataframe\">\n",
       "  <thead>\n",
       "    <tr style=\"text-align: right;\">\n",
       "      <th></th>\n",
       "      <th>sctyp</th>\n",
       "    </tr>\n",
       "  </thead>\n",
       "  <tbody>\n",
       "    <tr>\n",
       "      <th>0</th>\n",
       "      <td>Public</td>\n",
       "    </tr>\n",
       "    <tr>\n",
       "      <th>1</th>\n",
       "      <td>Public</td>\n",
       "    </tr>\n",
       "    <tr>\n",
       "      <th>2</th>\n",
       "      <td>Public</td>\n",
       "    </tr>\n",
       "    <tr>\n",
       "      <th>3</th>\n",
       "      <td>Public</td>\n",
       "    </tr>\n",
       "    <tr>\n",
       "      <th>4</th>\n",
       "      <td>Public</td>\n",
       "    </tr>\n",
       "    <tr>\n",
       "      <th>...</th>\n",
       "      <td>...</td>\n",
       "    </tr>\n",
       "    <tr>\n",
       "      <th>595</th>\n",
       "      <td>Private</td>\n",
       "    </tr>\n",
       "    <tr>\n",
       "      <th>596</th>\n",
       "      <td>Private</td>\n",
       "    </tr>\n",
       "    <tr>\n",
       "      <th>597</th>\n",
       "      <td>Private</td>\n",
       "    </tr>\n",
       "    <tr>\n",
       "      <th>598</th>\n",
       "      <td>Private</td>\n",
       "    </tr>\n",
       "    <tr>\n",
       "      <th>599</th>\n",
       "      <td>Private</td>\n",
       "    </tr>\n",
       "  </tbody>\n",
       "</table>\n",
       "<p>600 rows × 1 columns</p>\n",
       "</div>"
      ],
      "text/plain": [
       "       sctyp\n",
       "0     Public\n",
       "1     Public\n",
       "2     Public\n",
       "3     Public\n",
       "4     Public\n",
       "..       ...\n",
       "595  Private\n",
       "596  Private\n",
       "597  Private\n",
       "598  Private\n",
       "599  Private\n",
       "\n",
       "[600 rows x 1 columns]"
      ]
     },
     "execution_count": 18,
     "metadata": {},
     "output_type": "execute_result"
    }
   ],
   "source": [
    "# subdata frame\n",
    "DFcsv[['sctyp']]"
   ]
  },
  {
   "cell_type": "markdown",
   "metadata": {},
   "source": [
    "And the most important for future sessions:"
   ]
  },
  {
   "cell_type": "code",
   "execution_count": 19,
   "metadata": {},
   "outputs": [
    {
     "name": "stdout",
     "output_type": "stream",
     "text": [
      "<class 'pandas.core.frame.DataFrame'>\n",
      "RangeIndex: 600 entries, 0 to 599\n",
      "Data columns (total 15 columns):\n",
      " #   Column  Non-Null Count  Dtype  \n",
      "---  ------  --------------  -----  \n",
      " 0   id      600 non-null    int64  \n",
      " 1   sex     600 non-null    object \n",
      " 2   race    600 non-null    object \n",
      " 3   ses     600 non-null    object \n",
      " 4   sctyp   600 non-null    object \n",
      " 5   hsp     600 non-null    object \n",
      " 6   locus   600 non-null    float64\n",
      " 7   concpt  600 non-null    float64\n",
      " 8   mot     600 non-null    float64\n",
      " 9   car     600 non-null    object \n",
      " 10  rdg     600 non-null    float64\n",
      " 11  wrtg    600 non-null    float64\n",
      " 12  math    600 non-null    float64\n",
      " 13  sci     600 non-null    float64\n",
      " 14  civ     600 non-null    float64\n",
      "dtypes: float64(8), int64(1), object(6)\n",
      "memory usage: 70.4+ KB\n"
     ]
    }
   ],
   "source": [
    "DFcsv.info() # the data types Python has assigned"
   ]
  },
  {
   "cell_type": "markdown",
   "metadata": {},
   "source": [
    "Python will not care about the original data file (CSV, EXCEL. etc.), once they are read into Python you will have a DF."
   ]
  },
  {
   "cell_type": "markdown",
   "metadata": {},
   "source": [
    "**Proprietary Sofware**\n",
    "\n",
    "Several times, you may find that you are given a file that was previously prepared with proprietary software. The most common in the policy field are:\n",
    "\n",
    "* SPSS (file extension: **sav**).\n",
    "* STATA (file extension: **dta**).\n",
    "* EXCEL (file extension: **xlsx** or **xls**).\n",
    "\n",
    "Getting these files up and running might not bring much pre processing challenges. However, you may need different levels of effort to read them from **GitHub**: they will not be as easy to open as a CSV.\n",
    "\n",
    "Download [these files](https://drive.google.com/drive/folders/1XxTztY6rFkGwbR7wUtO_xiD4xvBrFqJN?usp=share_link) into the repository where your CSV file is currently stored in your local machine, then commit and push."
   ]
  },
  {
   "cell_type": "markdown",
   "metadata": {},
   "source": [
    "**Exercise:**\n",
    "    \n",
    "Open the other files (excel, spss, stata). \n",
    "\n",
    "**TIPS**\n",
    "\n",
    "Check these functions: \n",
    "* For STATA: https://pandas.pydata.org/pandas-docs/stable/reference/api/pandas.read_stata.html\n",
    "* FOR EXCEL: \n",
    "    - https://pandas.pydata.org/docs/reference/api/pandas.read_excel.html\n",
    "    - https://openpyxl.readthedocs.io/en/stable/\n",
    "    - https://xlrd.readthedocs.io/en/latest/\n",
    "* FOR SPSS:\n",
    "    - https://pandas.pydata.org/docs/reference/api/pandas.read_spss.html\n",
    "    - https://github.com/Roche/pyreadstat\n",
    "\n",
    "Opening SPSS might more challenging.\n",
    "\n",
    "\n",
    "Check if all the functions work well with the DFs created. Verify if the results are the same."
   ]
  },
  {
   "cell_type": "markdown",
   "metadata": {},
   "source": [
    "[home](#home)\n",
    "\n",
    "____\n",
    "\n",
    "<a id='part3'></a>\n",
    "\n",
    "## 3. Collecting data from APIs\n",
    "\n",
    "Open data portals from the government and other organizations have APIs, a service that allows you to collect their data. Let's take a look a Seattle data about [Seattle Real Time Fire 911 Calls](https://data.seattle.gov/Public-Safety/Seattle-Real-Time-Fire-911-Calls/kzjm-xkqj)."
   ]
  },
  {
   "cell_type": "markdown",
   "metadata": {},
   "source": [
    "That page tells you how to get the data into pandas. But first, you need to install **sodapy**. Then you can continue:"
   ]
  },
  {
   "cell_type": "code",
   "execution_count": 12,
   "metadata": {},
   "outputs": [
    {
     "name": "stdout",
     "output_type": "stream",
     "text": [
      "Name: sodapy\r\n",
      "Version: 2.2.0\r\n",
      "Summary: Python library for the Socrata Open Data API\r\n",
      "Home-page: https://github.com/xmunoz/sodapy\r\n",
      "Author: Cristina Muñoz\r\n",
      "Author-email: hi@xmunoz.com\r\n",
      "License: MIT\r\n",
      "Location: /Users/annsaephan/opt/anaconda3/envs/Go/lib/python3.9/site-packages\r\n",
      "Requires: requests\r\n",
      "Required-by: \r\n"
     ]
    }
   ],
   "source": [
    "!pip show sodapy"
   ]
  },
  {
   "cell_type": "markdown",
   "metadata": {},
   "source": [
    "Let's follow some steps, according to the API:"
   ]
  },
  {
   "cell_type": "code",
   "execution_count": 13,
   "metadata": {},
   "outputs": [
    {
     "name": "stderr",
     "output_type": "stream",
     "text": [
      "WARNING:root:Requests made without an app_token will be subject to strict throttling limits.\n"
     ]
    }
   ],
   "source": [
    "from sodapy import Socrata\n",
    "\n",
    "# Unauthenticated client (using 'None')\n",
    "\n",
    "client = Socrata(\"data.seattle.gov\", None)\n",
    "\n",
    "# If you have credentials:\n",
    "# client = Socrata(data.seattle.gov,\n",
    "#                  MyAppToken,\n",
    "#                  username=\"user@example.com\",\n",
    "#                  password=\"AFakePassword\")\n",
    "\n",
    "# First 2000 results, returned as JSON from API / converted to Python list of\n",
    "# dictionaries by sodapy.\n",
    "results = client.get(\"kzjm-xkqj\", limit=2000)\n",
    "\n",
    "# Convert to pandas DataFrame\n",
    "results_df = pd.DataFrame.from_records(results)"
   ]
  },
  {
   "cell_type": "code",
   "execution_count": null,
   "metadata": {},
   "outputs": [],
   "source": []
  },
  {
   "cell_type": "markdown",
   "metadata": {},
   "source": [
    "You can see the results now:"
   ]
  },
  {
   "cell_type": "code",
   "execution_count": 14,
   "metadata": {},
   "outputs": [
    {
     "data": {
      "text/html": [
       "<div>\n",
       "<style scoped>\n",
       "    .dataframe tbody tr th:only-of-type {\n",
       "        vertical-align: middle;\n",
       "    }\n",
       "\n",
       "    .dataframe tbody tr th {\n",
       "        vertical-align: top;\n",
       "    }\n",
       "\n",
       "    .dataframe thead th {\n",
       "        text-align: right;\n",
       "    }\n",
       "</style>\n",
       "<table border=\"1\" class=\"dataframe\">\n",
       "  <thead>\n",
       "    <tr style=\"text-align: right;\">\n",
       "      <th></th>\n",
       "      <th>address</th>\n",
       "      <th>type</th>\n",
       "      <th>datetime</th>\n",
       "      <th>latitude</th>\n",
       "      <th>longitude</th>\n",
       "      <th>report_location</th>\n",
       "      <th>incident_number</th>\n",
       "      <th>:@computed_region_ru88_fbhk</th>\n",
       "      <th>:@computed_region_kuhn_3gp2</th>\n",
       "      <th>:@computed_region_q256_3sug</th>\n",
       "      <th>:@computed_region_2day_rhn5</th>\n",
       "      <th>:@computed_region_cyqu_gs94</th>\n",
       "    </tr>\n",
       "  </thead>\n",
       "  <tbody>\n",
       "    <tr>\n",
       "      <th>0</th>\n",
       "      <td>3254 Nw Market St</td>\n",
       "      <td>Medic Response</td>\n",
       "      <td>2023-01-11T09:47:00.000</td>\n",
       "      <td>47.66862</td>\n",
       "      <td>-122.399074</td>\n",
       "      <td>{'type': 'Point', 'coordinates': [-122.399074,...</td>\n",
       "      <td>F230004552</td>\n",
       "      <td>4</td>\n",
       "      <td>1</td>\n",
       "      <td>18386</td>\n",
       "      <td>NaN</td>\n",
       "      <td>NaN</td>\n",
       "    </tr>\n",
       "    <tr>\n",
       "      <th>1</th>\n",
       "      <td>2717 Dexter Ave N</td>\n",
       "      <td>Aid Response</td>\n",
       "      <td>2023-01-11T09:47:00.000</td>\n",
       "      <td>47.644374</td>\n",
       "      <td>-122.346913</td>\n",
       "      <td>{'type': 'Point', 'coordinates': [-122.346913,...</td>\n",
       "      <td>F230004551</td>\n",
       "      <td>50</td>\n",
       "      <td>7</td>\n",
       "      <td>18390</td>\n",
       "      <td>NaN</td>\n",
       "      <td>NaN</td>\n",
       "    </tr>\n",
       "    <tr>\n",
       "      <th>2</th>\n",
       "      <td>3540 Ne 110th St</td>\n",
       "      <td>1RED 1 Unit</td>\n",
       "      <td>2023-01-11T09:41:00.000</td>\n",
       "      <td>47.708356</td>\n",
       "      <td>-122.289374</td>\n",
       "      <td>{'type': 'Point', 'coordinates': [-122.289374,...</td>\n",
       "      <td>F230004550</td>\n",
       "      <td>55</td>\n",
       "      <td>29</td>\n",
       "      <td>19579</td>\n",
       "      <td>127</td>\n",
       "      <td>2</td>\n",
       "    </tr>\n",
       "    <tr>\n",
       "      <th>3</th>\n",
       "      <td>1814 Harvard Ave</td>\n",
       "      <td>Aid Response</td>\n",
       "      <td>2023-01-11T09:37:00.000</td>\n",
       "      <td>47.617718</td>\n",
       "      <td>-122.322171</td>\n",
       "      <td>{'type': 'Point', 'coordinates': [-122.322171,...</td>\n",
       "      <td>F230004549</td>\n",
       "      <td>8</td>\n",
       "      <td>11</td>\n",
       "      <td>19578</td>\n",
       "      <td>NaN</td>\n",
       "      <td>NaN</td>\n",
       "    </tr>\n",
       "    <tr>\n",
       "      <th>4</th>\n",
       "      <td>2021 4th Ave</td>\n",
       "      <td>Triaged Incident</td>\n",
       "      <td>2023-01-11T09:35:00.000</td>\n",
       "      <td>47.61322</td>\n",
       "      <td>-122.340298</td>\n",
       "      <td>{'type': 'Point', 'coordinates': [-122.340298,...</td>\n",
       "      <td>F230004548</td>\n",
       "      <td>56</td>\n",
       "      <td>31</td>\n",
       "      <td>19576</td>\n",
       "      <td>NaN</td>\n",
       "      <td>NaN</td>\n",
       "    </tr>\n",
       "    <tr>\n",
       "      <th>...</th>\n",
       "      <td>...</td>\n",
       "      <td>...</td>\n",
       "      <td>...</td>\n",
       "      <td>...</td>\n",
       "      <td>...</td>\n",
       "      <td>...</td>\n",
       "      <td>...</td>\n",
       "      <td>...</td>\n",
       "      <td>...</td>\n",
       "      <td>...</td>\n",
       "      <td>...</td>\n",
       "      <td>...</td>\n",
       "    </tr>\n",
       "    <tr>\n",
       "      <th>1995</th>\n",
       "      <td>6th Ave S / Airport Way S</td>\n",
       "      <td>Aid Response</td>\n",
       "      <td>2023-01-05T13:05:00.000</td>\n",
       "      <td>47.594923</td>\n",
       "      <td>-122.325967</td>\n",
       "      <td>{'type': 'Point', 'coordinates': [-122.325967,...</td>\n",
       "      <td>F230001929</td>\n",
       "      <td>27</td>\n",
       "      <td>22</td>\n",
       "      <td>19584</td>\n",
       "      <td>NaN</td>\n",
       "      <td>NaN</td>\n",
       "    </tr>\n",
       "    <tr>\n",
       "      <th>1996</th>\n",
       "      <td>12521 33rd Ave Ne</td>\n",
       "      <td>Nurseline/AMR</td>\n",
       "      <td>2023-01-05T13:04:00.000</td>\n",
       "      <td>47.719406</td>\n",
       "      <td>-122.292729</td>\n",
       "      <td>{'type': 'Point', 'coordinates': [-122.292729,...</td>\n",
       "      <td>F230001928</td>\n",
       "      <td>29</td>\n",
       "      <td>29</td>\n",
       "      <td>19579</td>\n",
       "      <td>127</td>\n",
       "      <td>2</td>\n",
       "    </tr>\n",
       "    <tr>\n",
       "      <th>1997</th>\n",
       "      <td>2613 S Angeline St</td>\n",
       "      <td>Aid Response</td>\n",
       "      <td>2023-01-05T12:55:00.000</td>\n",
       "      <td>47.559754</td>\n",
       "      <td>-122.299147</td>\n",
       "      <td>{'type': 'Point', 'coordinates': [-122.299147,...</td>\n",
       "      <td>F230001925</td>\n",
       "      <td>34</td>\n",
       "      <td>41</td>\n",
       "      <td>18388</td>\n",
       "      <td>NaN</td>\n",
       "      <td>NaN</td>\n",
       "    </tr>\n",
       "    <tr>\n",
       "      <th>1998</th>\n",
       "      <td>2611 S Dearborn St</td>\n",
       "      <td>Medic Response- 7 per Rule</td>\n",
       "      <td>2023-01-05T12:51:00.000</td>\n",
       "      <td>47.595541</td>\n",
       "      <td>-122.298643</td>\n",
       "      <td>{'type': 'Point', 'coordinates': [-122.298643,...</td>\n",
       "      <td>F230001924</td>\n",
       "      <td>32</td>\n",
       "      <td>18</td>\n",
       "      <td>17919</td>\n",
       "      <td>NaN</td>\n",
       "      <td>NaN</td>\n",
       "    </tr>\n",
       "    <tr>\n",
       "      <th>1999</th>\n",
       "      <td>17th Ave / E Howell St</td>\n",
       "      <td>Encampment Fire</td>\n",
       "      <td>2023-01-05T12:47:00.000</td>\n",
       "      <td>47.617611</td>\n",
       "      <td>-122.310139</td>\n",
       "      <td>{'type': 'Point', 'coordinates': [-122.310139,...</td>\n",
       "      <td>F230001923</td>\n",
       "      <td>9</td>\n",
       "      <td>6</td>\n",
       "      <td>19578</td>\n",
       "      <td>NaN</td>\n",
       "      <td>NaN</td>\n",
       "    </tr>\n",
       "  </tbody>\n",
       "</table>\n",
       "<p>2000 rows × 12 columns</p>\n",
       "</div>"
      ],
      "text/plain": [
       "                        address                        type  \\\n",
       "0             3254 Nw Market St              Medic Response   \n",
       "1             2717 Dexter Ave N                Aid Response   \n",
       "2              3540 Ne 110th St                 1RED 1 Unit   \n",
       "3              1814 Harvard Ave                Aid Response   \n",
       "4                  2021 4th Ave            Triaged Incident   \n",
       "...                         ...                         ...   \n",
       "1995  6th Ave S / Airport Way S                Aid Response   \n",
       "1996          12521 33rd Ave Ne               Nurseline/AMR   \n",
       "1997         2613 S Angeline St                Aid Response   \n",
       "1998         2611 S Dearborn St  Medic Response- 7 per Rule   \n",
       "1999     17th Ave / E Howell St             Encampment Fire   \n",
       "\n",
       "                     datetime   latitude    longitude  \\\n",
       "0     2023-01-11T09:47:00.000   47.66862  -122.399074   \n",
       "1     2023-01-11T09:47:00.000  47.644374  -122.346913   \n",
       "2     2023-01-11T09:41:00.000  47.708356  -122.289374   \n",
       "3     2023-01-11T09:37:00.000  47.617718  -122.322171   \n",
       "4     2023-01-11T09:35:00.000   47.61322  -122.340298   \n",
       "...                       ...        ...          ...   \n",
       "1995  2023-01-05T13:05:00.000  47.594923  -122.325967   \n",
       "1996  2023-01-05T13:04:00.000  47.719406  -122.292729   \n",
       "1997  2023-01-05T12:55:00.000  47.559754  -122.299147   \n",
       "1998  2023-01-05T12:51:00.000  47.595541  -122.298643   \n",
       "1999  2023-01-05T12:47:00.000  47.617611  -122.310139   \n",
       "\n",
       "                                        report_location incident_number  \\\n",
       "0     {'type': 'Point', 'coordinates': [-122.399074,...      F230004552   \n",
       "1     {'type': 'Point', 'coordinates': [-122.346913,...      F230004551   \n",
       "2     {'type': 'Point', 'coordinates': [-122.289374,...      F230004550   \n",
       "3     {'type': 'Point', 'coordinates': [-122.322171,...      F230004549   \n",
       "4     {'type': 'Point', 'coordinates': [-122.340298,...      F230004548   \n",
       "...                                                 ...             ...   \n",
       "1995  {'type': 'Point', 'coordinates': [-122.325967,...      F230001929   \n",
       "1996  {'type': 'Point', 'coordinates': [-122.292729,...      F230001928   \n",
       "1997  {'type': 'Point', 'coordinates': [-122.299147,...      F230001925   \n",
       "1998  {'type': 'Point', 'coordinates': [-122.298643,...      F230001924   \n",
       "1999  {'type': 'Point', 'coordinates': [-122.310139,...      F230001923   \n",
       "\n",
       "     :@computed_region_ru88_fbhk :@computed_region_kuhn_3gp2  \\\n",
       "0                              4                           1   \n",
       "1                             50                           7   \n",
       "2                             55                          29   \n",
       "3                              8                          11   \n",
       "4                             56                          31   \n",
       "...                          ...                         ...   \n",
       "1995                          27                          22   \n",
       "1996                          29                          29   \n",
       "1997                          34                          41   \n",
       "1998                          32                          18   \n",
       "1999                           9                           6   \n",
       "\n",
       "     :@computed_region_q256_3sug :@computed_region_2day_rhn5  \\\n",
       "0                          18386                         NaN   \n",
       "1                          18390                         NaN   \n",
       "2                          19579                         127   \n",
       "3                          19578                         NaN   \n",
       "4                          19576                         NaN   \n",
       "...                          ...                         ...   \n",
       "1995                       19584                         NaN   \n",
       "1996                       19579                         127   \n",
       "1997                       18388                         NaN   \n",
       "1998                       17919                         NaN   \n",
       "1999                       19578                         NaN   \n",
       "\n",
       "     :@computed_region_cyqu_gs94  \n",
       "0                            NaN  \n",
       "1                            NaN  \n",
       "2                              2  \n",
       "3                            NaN  \n",
       "4                            NaN  \n",
       "...                          ...  \n",
       "1995                         NaN  \n",
       "1996                           2  \n",
       "1997                         NaN  \n",
       "1998                         NaN  \n",
       "1999                         NaN  \n",
       "\n",
       "[2000 rows x 12 columns]"
      ]
     },
     "execution_count": 14,
     "metadata": {},
     "output_type": "execute_result"
    }
   ],
   "source": [
    "results_df"
   ]
  },
  {
   "cell_type": "markdown",
   "metadata": {},
   "source": [
    "Data from APIs may need some more pre processing than the previous files. Besides, you should study the API documentation to know how to interact with the portal. Not every open data portal behaves the same."
   ]
  },
  {
   "cell_type": "markdown",
   "metadata": {},
   "source": [
    "[home](#home)\n",
    "____\n",
    "<a id='part4'></a>\n",
    "\n",
    "## 4. Scraping"
   ]
  },
  {
   "cell_type": "markdown",
   "metadata": {},
   "source": [
    "Sometimes you are interested in data from the web. Let me get a table from wikipedia:"
   ]
  },
  {
   "cell_type": "code",
   "execution_count": 15,
   "metadata": {},
   "outputs": [
    {
     "data": {
      "text/html": [
       "\n",
       "        <iframe\n",
       "            width=\"700\"\n",
       "            height=\"300\"\n",
       "            src=\"https://en.wikipedia.org/wiki/Democracy_Index\"\n",
       "            frameborder=\"0\"\n",
       "            allowfullscreen\n",
       "            \n",
       "        ></iframe>\n",
       "        "
      ],
      "text/plain": [
       "<IPython.lib.display.IFrame at 0x7fd0982ea5e0>"
      ]
     },
     "execution_count": 15,
     "metadata": {},
     "output_type": "execute_result"
    }
   ],
   "source": [
    "from IPython.display import IFrame  \n",
    "wikiLink=\"https://en.wikipedia.org/wiki/Democracy_Index\" \n",
    "IFrame(wikiLink, width=700, height=300)"
   ]
  },
  {
   "cell_type": "markdown",
   "metadata": {},
   "source": [
    "I will use pandas to get the table, but you need to install these libraries first:\n",
    "* html5lib \n",
    "* beautifulsoup4\n",
    "* lxml"
   ]
  },
  {
   "cell_type": "markdown",
   "metadata": {},
   "source": [
    "Let's get the table from Wikipedia now:"
   ]
  },
  {
   "cell_type": "code",
   "execution_count": 20,
   "metadata": {},
   "outputs": [
    {
     "name": "stdout",
     "output_type": "stream",
     "text": [
      "Name: html5lib\n",
      "Version: 1.1\n",
      "Summary: HTML parser based on the WHATWG HTML specification\n",
      "Home-page: https://github.com/html5lib/html5lib-python\n",
      "Author: \n",
      "Author-email: \n",
      "License: MIT License\n",
      "Location: /Users/annsaephan/opt/anaconda3/envs/Go/lib/python3.9/site-packages\n",
      "Requires: six, webencodings\n",
      "Required-by: \n",
      "Name: beautifulsoup4\n",
      "Version: 4.11.1\n",
      "Summary: Screen-scraping library\n",
      "Home-page: https://www.crummy.com/software/BeautifulSoup/bs4/\n",
      "Author: Leonard Richardson\n",
      "Author-email: leonardr@segfault.org\n",
      "License: MIT\n",
      "Location: /Users/annsaephan/opt/anaconda3/envs/Go/lib/python3.9/site-packages\n",
      "Requires: soupsieve\n",
      "Required-by: nbconvert\n",
      "Name: lxml\n",
      "Version: 4.9.1\n",
      "Summary: Powerful and Pythonic XML processing library combining libxml2/libxslt with the ElementTree API.\n",
      "Home-page: https://lxml.de/\n",
      "Author: lxml dev team\n",
      "Author-email: lxml-dev@lxml.de\n",
      "License: BSD\n",
      "Location: /Users/annsaephan/opt/anaconda3/envs/Go/lib/python3.9/site-packages\n",
      "Requires: \n",
      "Required-by: nbconvert\n"
     ]
    },
    {
     "ename": "NameError",
     "evalue": "name 'wikiLink' is not defined",
     "output_type": "error",
     "traceback": [
      "\u001b[0;31m---------------------------------------------------------------------------\u001b[0m",
      "\u001b[0;31mNameError\u001b[0m                                 Traceback (most recent call last)",
      "Cell \u001b[0;32mIn[20], line 5\u001b[0m\n\u001b[1;32m      2\u001b[0m get_ipython()\u001b[38;5;241m.\u001b[39msystem(\u001b[38;5;124m'\u001b[39m\u001b[38;5;124mpip show beautifulsoup4\u001b[39m\u001b[38;5;124m'\u001b[39m)\n\u001b[1;32m      3\u001b[0m get_ipython()\u001b[38;5;241m.\u001b[39msystem(\u001b[38;5;124m'\u001b[39m\u001b[38;5;124mpip show lxml\u001b[39m\u001b[38;5;124m'\u001b[39m)\n\u001b[0;32m----> 5\u001b[0m DFwiki\u001b[38;5;241m=\u001b[39mpd\u001b[38;5;241m.\u001b[39mread_html(\u001b[43mwikiLink\u001b[49m,\n\u001b[1;32m      6\u001b[0m                     header\u001b[38;5;241m=\u001b[39m\u001b[38;5;241m0\u001b[39m,\n\u001b[1;32m      7\u001b[0m                     flavor\u001b[38;5;241m=\u001b[39m\u001b[38;5;124m'\u001b[39m\u001b[38;5;124mbs4\u001b[39m\u001b[38;5;124m'\u001b[39m,\n\u001b[1;32m      8\u001b[0m                     attrs\u001b[38;5;241m=\u001b[39m{\u001b[38;5;124m'\u001b[39m\u001b[38;5;124mclass\u001b[39m\u001b[38;5;124m'\u001b[39m: \u001b[38;5;124m'\u001b[39m\u001b[38;5;124mwikitable\u001b[39m\u001b[38;5;124m'\u001b[39m})\n",
      "\u001b[0;31mNameError\u001b[0m: name 'wikiLink' is not defined"
     ]
    }
   ],
   "source": [
    "!pip show html5lib\n",
    "!pip show beautifulsoup4\n",
    "!pip show lxml\n",
    "\n",
    "DFwiki=pd.read_html(wikiLink,\n",
    "                    header=0,\n",
    "                    flavor='bs4',\n",
    "                    attrs={'class': 'wikitable'})# very important"
   ]
  },
  {
   "cell_type": "markdown",
   "metadata": {},
   "source": [
    "Pandas has this command **read_html** that will save lots of coding, above I just said:\n",
    "* The link to the webpage.\n",
    "* The position of the header.\n",
    "* The external library that will be used to extract the text (_flavor_).\n",
    "* The attributes of the table."
   ]
  },
  {
   "cell_type": "markdown",
   "metadata": {},
   "source": [
    "DFwiki is not a data frame:"
   ]
  },
  {
   "cell_type": "code",
   "execution_count": 18,
   "metadata": {},
   "outputs": [
    {
     "data": {
      "text/plain": [
       "list"
      ]
     },
     "execution_count": 18,
     "metadata": {},
     "output_type": "execute_result"
    }
   ],
   "source": [
    "type(DFwiki)"
   ]
  },
  {
   "cell_type": "markdown",
   "metadata": {},
   "source": [
    "The command **read_html** returned all the tables with the attribute _wikitable_. Since there may be more than one, a **list** of tables is returned. Lists are the most flexible container offered by Python:"
   ]
  },
  {
   "cell_type": "code",
   "execution_count": 19,
   "metadata": {},
   "outputs": [
    {
     "data": {
      "text/plain": [
       "[1, 2, 'a', '*']"
      ]
     },
     "execution_count": 19,
     "metadata": {},
     "output_type": "execute_result"
    }
   ],
   "source": [
    "aList=[1,2,'a','*']\n",
    "aList"
   ]
  },
  {
   "cell_type": "markdown",
   "metadata": {},
   "source": [
    "Lists have several interesting functions and properties:"
   ]
  },
  {
   "cell_type": "code",
   "execution_count": 20,
   "metadata": {},
   "outputs": [
    {
     "data": {
      "text/plain": [
       "4"
      ]
     },
     "execution_count": 20,
     "metadata": {},
     "output_type": "execute_result"
    }
   ],
   "source": [
    "# amount of elements\n",
    "len(aList)"
   ]
  },
  {
   "cell_type": "code",
   "execution_count": 23,
   "metadata": {},
   "outputs": [
    {
     "data": {
      "text/plain": [
       "'a'"
      ]
     },
     "execution_count": 23,
     "metadata": {},
     "output_type": "execute_result"
    }
   ],
   "source": [
    "# get element\n",
    "aList[2]"
   ]
  },
  {
   "cell_type": "code",
   "execution_count": 24,
   "metadata": {},
   "outputs": [
    {
     "data": {
      "text/plain": [
       "[1, 2, 'a', '**']"
      ]
     },
     "execution_count": 24,
     "metadata": {},
     "output_type": "execute_result"
    }
   ],
   "source": [
    "# replace\n",
    "aList[3]=\"**\"\n",
    "aList"
   ]
  },
  {
   "cell_type": "code",
   "execution_count": 25,
   "metadata": {},
   "outputs": [
    {
     "data": {
      "text/plain": [
       "[1, 2, 'a', '**', 4]"
      ]
     },
     "execution_count": 25,
     "metadata": {},
     "output_type": "execute_result"
    }
   ],
   "source": [
    "# add element\n",
    "aList.append(4)\n",
    "aList"
   ]
  },
  {
   "cell_type": "code",
   "execution_count": 26,
   "metadata": {},
   "outputs": [
    {
     "data": {
      "text/plain": [
       "[2, 'a', '**', 4]"
      ]
     },
     "execution_count": 26,
     "metadata": {},
     "output_type": "execute_result"
    }
   ],
   "source": [
    "# erase element\n",
    "del aList[0]\n",
    "aList"
   ]
  },
  {
   "cell_type": "markdown",
   "metadata": {},
   "source": [
    "And the nicest of all: **list comprehension**"
   ]
  },
  {
   "cell_type": "code",
   "execution_count": 27,
   "metadata": {},
   "outputs": [
    {
     "data": {
      "text/plain": [
       "[0, 1, 4, 9, 16]"
      ]
     },
     "execution_count": 27,
     "metadata": {},
     "output_type": "execute_result"
    }
   ],
   "source": [
    "# list of the squared first five positive integers (0 to 4)\n",
    "easyList_1=[x**2 for x in range(5)]\n",
    "easyList_1"
   ]
  },
  {
   "cell_type": "code",
   "execution_count": 1,
   "metadata": {},
   "outputs": [
    {
     "data": {
      "text/plain": [
       "[5, 10, 15, 20, 25, 30, 35, 40, 45]"
      ]
     },
     "execution_count": 1,
     "metadata": {},
     "output_type": "execute_result"
    }
   ],
   "source": [
    "# list of multiples of 5 smaller than 50\n",
    "easyList_2=[x for x in range(50) if x%5==0 and x>0]\n",
    "easyList_2"
   ]
  },
  {
   "cell_type": "code",
   "execution_count": null,
   "metadata": {},
   "outputs": [],
   "source": [
    "someNames=[\"Peter\",\"John\",\"Rob\", \"Ron\", \"Mike\"]\n",
    "easyList_3=[x for x in someNames if not x.startswith('R')]\n",
    "easyList_3"
   ]
  },
  {
   "cell_type": "code",
   "execution_count": null,
   "metadata": {},
   "outputs": [],
   "source": [
    "import math\n",
    "\n",
    "someNumbers=[-1,4,6,-3]\n",
    "easyList_4a=[math.pow(x,2) for x in someNumbers ]\n",
    "easyList_4a"
   ]
  },
  {
   "cell_type": "code",
   "execution_count": null,
   "metadata": {},
   "outputs": [],
   "source": [
    "# when using'else' write 'for' at the end\n",
    "easyList_4b=[math.sqrt(x) if x >=0 else None for x in someNumbers]\n",
    "easyList_4b"
   ]
  },
  {
   "cell_type": "markdown",
   "metadata": {},
   "source": [
    "Coming back to our example from wikipedia, we first should check how many DFs we have:"
   ]
  },
  {
   "cell_type": "code",
   "execution_count": null,
   "metadata": {},
   "outputs": [],
   "source": [
    "len(DFwiki)"
   ]
  },
  {
   "cell_type": "markdown",
   "metadata": {},
   "source": [
    "Is ours the first one?"
   ]
  },
  {
   "cell_type": "code",
   "execution_count": null,
   "metadata": {},
   "outputs": [],
   "source": [
    "# remember that Python starts counting in ZERO!\n",
    "DFwiki[0]"
   ]
  },
  {
   "cell_type": "markdown",
   "metadata": {},
   "source": [
    "or the last one?"
   ]
  },
  {
   "cell_type": "code",
   "execution_count": null,
   "metadata": {},
   "outputs": [],
   "source": [
    "DFwiki[4]"
   ]
  },
  {
   "cell_type": "markdown",
   "metadata": {},
   "source": [
    "Tables scrapped will bring different cleaning challenges. \n",
    "\n",
    "[home](#home)\n",
    "____\n",
    "<a id='part5'></a>\n",
    "\n",
    "## 5. Social media data"
   ]
  },
  {
   "cell_type": "markdown",
   "metadata": {},
   "source": [
    "Social media offer APIs too that allow you to get _some_ data. To use this service, you need to register as a developer. For our Twitter example, you should go [here](https://developer.twitter.com/en).\n",
    "Once you are a confirmed developer, Twitter, Facebook and others will allow you to get _some_ of their data (the more you pay the more you get). \n",
    "\n",
    "Let's pay attention to Twitter. First, check if you have **tweepy**:"
   ]
  },
  {
   "cell_type": "code",
   "execution_count": null,
   "metadata": {},
   "outputs": [],
   "source": [
    "!pip show tweepy"
   ]
  },
  {
   "cell_type": "code",
   "execution_count": null,
   "metadata": {},
   "outputs": [],
   "source": [
    "#!pip install tweepy"
   ]
  },
  {
   "cell_type": "markdown",
   "metadata": {},
   "source": [
    "Tweepy is the key library, but you may need several other libraries according to your goals."
   ]
  },
  {
   "cell_type": "code",
   "execution_count": null,
   "metadata": {},
   "outputs": [],
   "source": [
    "import tweepy"
   ]
  },
  {
   "cell_type": "markdown",
   "metadata": {},
   "source": [
    "Let me introduce myself to Twitter:"
   ]
  },
  {
   "cell_type": "code",
   "execution_count": null,
   "metadata": {},
   "outputs": [],
   "source": [
    "# credentials from a file\n",
    "import json\n",
    "keysAPI = json.load(open('APIkeys.txt','r'))\n",
    "\n",
    "# getting info from the file\n",
    "api_key = keysAPI['api_key']\n",
    "api_key_secret = keysAPI['api_key_secret']\n",
    "access_token = keysAPI['access_token']\n",
    "access_token_secret = keysAPI['access_token_secret']\n",
    "\n",
    "# introducing myself:\n",
    "auth = tweepy.OAuthHandler(api_key, api_key_secret)\n",
    "auth.set_access_token(access_token, access_token_secret)\n",
    "api=tweepy.API(auth, wait_on_rate_limit=True,timeout=60,\n",
    "               parser=tweepy.parsers.JSONParser())"
   ]
  },
  {
   "cell_type": "markdown",
   "metadata": {},
   "source": [
    "Let me ask for some tweets from a particular user:"
   ]
  },
  {
   "cell_type": "code",
   "execution_count": null,
   "metadata": {},
   "outputs": [],
   "source": [
    "who='@WAStateGov'\n",
    "howMany=100\n",
    "gottenTweets = api.user_timeline(screen_name = who, \n",
    "                                 count = howMany, \n",
    "                                 include_rts = True,\n",
    "                                 tweet_mode=\"extended\")"
   ]
  },
  {
   "cell_type": "markdown",
   "metadata": {},
   "source": [
    "You should always check what you have:"
   ]
  },
  {
   "cell_type": "code",
   "execution_count": null,
   "metadata": {},
   "outputs": [],
   "source": [
    "type(gottenTweets)"
   ]
  },
  {
   "cell_type": "markdown",
   "metadata": {},
   "source": [
    "I have a list, then I could ask how many tweets I got (just to confirm):"
   ]
  },
  {
   "cell_type": "code",
   "execution_count": null,
   "metadata": {},
   "outputs": [],
   "source": [
    "len(gottenTweets)"
   ]
  },
  {
   "cell_type": "markdown",
   "metadata": {},
   "source": [
    "Let me view what I have in the first tweet:"
   ]
  },
  {
   "cell_type": "code",
   "execution_count": null,
   "metadata": {},
   "outputs": [],
   "source": [
    "gottenTweets[0]"
   ]
  },
  {
   "cell_type": "markdown",
   "metadata": {},
   "source": [
    "It will take some time to become familiar with a [tweet object structure](https://developer.twitter.com/en/docs/twitter-api/data-dictionary/object-model/tweet). Let's find out how each tweet is currently stored:"
   ]
  },
  {
   "cell_type": "code",
   "execution_count": null,
   "metadata": {},
   "outputs": [],
   "source": [
    "type(gottenTweets[0])"
   ]
  },
  {
   "cell_type": "markdown",
   "metadata": {},
   "source": [
    "Now you know that each tweet is stored as a **dictionary**. \n",
    "Dictionaries or **dicts** are very flexible and important structures in Python. Let me show you a simple one: "
   ]
  },
  {
   "cell_type": "code",
   "execution_count": null,
   "metadata": {},
   "outputs": [],
   "source": [
    "aDictExample={\"name\":\"Peter\",\n",
    "             \"speaks\":['French', 'Spanish'],\n",
    "             'country':'Morocco'}\n",
    "\n",
    "# then\n",
    "aDictExample"
   ]
  },
  {
   "cell_type": "markdown",
   "metadata": {},
   "source": [
    "Dicts are a basic structure in Python, and one that makes Python very appealing. Each element in Python can be accessed via **keys**. Our _aDictExample_ has these keys:"
   ]
  },
  {
   "cell_type": "code",
   "execution_count": null,
   "metadata": {},
   "outputs": [],
   "source": [
    "aDictExample.keys()"
   ]
  },
  {
   "cell_type": "markdown",
   "metadata": {},
   "source": [
    "So, you access the info like this:"
   ]
  },
  {
   "cell_type": "code",
   "execution_count": null,
   "metadata": {},
   "outputs": [],
   "source": [
    "aDictExample['speaks']"
   ]
  },
  {
   "cell_type": "markdown",
   "metadata": {},
   "source": [
    "Then, let's see our **gottenTweets** keys:"
   ]
  },
  {
   "cell_type": "code",
   "execution_count": null,
   "metadata": {},
   "outputs": [],
   "source": [
    "gottenTweets[0].keys()"
   ]
  },
  {
   "cell_type": "code",
   "execution_count": null,
   "metadata": {},
   "outputs": [],
   "source": [
    "# then:\n",
    "gottenTweets[0]['created_at']"
   ]
  },
  {
   "cell_type": "code",
   "execution_count": null,
   "metadata": {},
   "outputs": [],
   "source": [
    "gottenTweets[1]['created_at']"
   ]
  },
  {
   "cell_type": "markdown",
   "metadata": {},
   "source": [
    "We could prepare a data frame using the current tweets, first let's prepare a list of each of fields we want:"
   ]
  },
  {
   "cell_type": "code",
   "execution_count": null,
   "metadata": {},
   "outputs": [],
   "source": [
    "# list comprehesions\n",
    "dates=[t['created_at'] for t in gottenTweets]\n",
    "ids=[t['id'] for t in gottenTweets]\n",
    "rts=[t['retweet_count'] for t in gottenTweets]\n",
    "likes=[t['favorite_count'] for t in gottenTweets]\n",
    "text=[t['full_text'] for t in gottenTweets]\n",
    "rtw=[t['full_text'].startswith('RT') for t in gottenTweets]"
   ]
  },
  {
   "cell_type": "markdown",
   "metadata": {},
   "source": [
    "Each of the objects created is a list (dates, ids,rts,likes and text). Let me show you one:"
   ]
  },
  {
   "cell_type": "code",
   "execution_count": null,
   "metadata": {},
   "outputs": [],
   "source": [
    "rtw"
   ]
  },
  {
   "cell_type": "markdown",
   "metadata": {},
   "source": [
    "Let me create a data frame with those lists:"
   ]
  },
  {
   "cell_type": "code",
   "execution_count": null,
   "metadata": {},
   "outputs": [],
   "source": [
    "dictOfColsAsLists={'dates':dates,'ids':ids,'rts':rts,\n",
    "                   'likes':likes,'text':text,'rtw':rtw}\n",
    "tweetsAsDF=pd.DataFrame(dictOfColsAsLists)"
   ]
  },
  {
   "cell_type": "code",
   "execution_count": null,
   "metadata": {},
   "outputs": [],
   "source": [
    "tweetsAsDF"
   ]
  },
  {
   "cell_type": "markdown",
   "metadata": {},
   "source": [
    "You can know how many are retweets or not:"
   ]
  },
  {
   "cell_type": "code",
   "execution_count": null,
   "metadata": {},
   "outputs": [],
   "source": [
    "tweetsAsDF[tweetsAsDF['rtw']==False].shape"
   ]
  },
  {
   "cell_type": "code",
   "execution_count": null,
   "metadata": {},
   "outputs": [],
   "source": [
    "tweetsAsDF[tweetsAsDF['rtw']==True].shape"
   ]
  },
  {
   "cell_type": "markdown",
   "metadata": {},
   "source": [
    "[home](#home)"
   ]
  }
 ],
 "metadata": {
  "anaconda-cloud": {
   "attach-environment": true,
   "summary": "test"
  },
  "hide_input": false,
  "kernelspec": {
   "display_name": "Python 3 (ipykernel)",
   "language": "python",
   "name": "python3"
  },
  "language_info": {
   "codemirror_mode": {
    "name": "ipython",
    "version": 3
   },
   "file_extension": ".py",
   "mimetype": "text/x-python",
   "name": "python",
   "nbconvert_exporter": "python",
   "pygments_lexer": "ipython3",
   "version": "3.9.15"
  }
 },
 "nbformat": 4,
 "nbformat_minor": 1
}
